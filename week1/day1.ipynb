{
 "cells": [
  {
   "cell_type": "code",
   "execution_count": 16,
   "id": "4e2a9393-7767-488e-a8bf-27c12dca35bd",
   "metadata": {},
   "outputs": [],
   "source": [
    "# imports\n",
    "\n",
    "import os\n",
    "import requests\n",
    "from dotenv import load_dotenv\n",
    "from bs4 import BeautifulSoup\n",
    "from IPython.display import Markdown, display\n",
    "from openai import OpenAI"
   ]
  },
  {
   "cell_type": "code",
   "execution_count": 17,
   "id": "7b87cadb-d513-4303-baee-a37b6f938e4d",
   "metadata": {},
   "outputs": [],
   "source": [
    "load_dotenv()\n",
    "api_key = os.getenv('OPENAI_API_KEY')"
   ]
  },
  {
   "cell_type": "code",
   "execution_count": 18,
   "id": "019974d9-f3ad-4a8a-b5f9-0a3719aea2d3",
   "metadata": {},
   "outputs": [],
   "source": [
    "openai = OpenAI()"
   ]
  },
  {
   "cell_type": "code",
   "execution_count": 19,
   "id": "c5e793b2-6775-426a-a139-4848291d0463",
   "metadata": {},
   "outputs": [],
   "source": [
    "class Website:\n",
    "\n",
    "    def __init__(self, url):\n",
    "        \"\"\"\n",
    "        Create this Website object from the given url using the BeautifulSoup library\n",
    "        \"\"\"\n",
    "        self.url = url\n",
    "        response = requests.get(url)\n",
    "        soup = BeautifulSoup(response.content, 'html.parser')\n",
    "        self.title = soup.title.string if soup.title else \"No title found\"\n",
    "        for irrelevant in soup.body([\"script\", \"style\", \"img\", \"input\"]):\n",
    "            irrelevant.decompose()\n",
    "        self.text = soup.body.get_text(separator=\"\\n\", strip=True)"
   ]
  },
  {
   "cell_type": "code",
   "execution_count": 20,
   "id": "2ef960cf-6dc2-4cda-afb3-b38be12f4c97",
   "metadata": {},
   "outputs": [],
   "source": [
    "# tom = Website(\"https://clearchoice.io\")\n",
    "# print(tom.title)\n",
    "# print(tom.text)\n"
   ]
  },
  {
   "cell_type": "code",
   "execution_count": 21,
   "id": "abdb8417-c5dc-44bc-9bee-2e059d162699",
   "metadata": {},
   "outputs": [],
   "source": [
    "# Define our system prompt - you can experiment with this later, changing the last sentence to 'Respond in markdown in Spanish.\"\n",
    "\n",
    "system_prompt = \"You are an assistant that analyzes the contents \\\n",
    "of a website to identify and describe its products and services. \\\n",
    "For each product or service, provide a concise summary of its core \\\n",
    "capabilities and features. Ignore any navigation-related text or \\\n",
    "irrelevant content. Present the information in a well-structured \\\n",
    "Markdown format, using headings and bullet points where appropriate.\" "
   ]
  },
  {
   "cell_type": "code",
   "execution_count": 63,
   "id": "f0275b1b-7cfe-4f9d-abfa-7650d378da0c",
   "metadata": {},
   "outputs": [],
   "source": [
    "# A function that writes a User Prompt that asks for summaries of websites:\n",
    "\n",
    "def user_prompt_for(website):\n",
    "    user_prompt = f\"You are looking at a website titled {website.title}\"\n",
    "    user_prompt += \"\\nThe contents of this website is as follows; \\\n",
    "please provide a short summary of this website in markdown. \\\n",
    "Include a matrix of competitive products by name that compares each products capabilities with the website. Rate \\\n",
    "each products capabilities compared with the website.\\\n",
    "Include a summary depicting the best product, also include the urls for each product \\\n",
    "as well as any news or announcements, then summarize these too.\\n\\n\"\n",
    "    user_prompt += website.text\n",
    "    return user_prompt"
   ]
  },
  {
   "cell_type": "code",
   "execution_count": 23,
   "id": "26448ec4-5c00-4204-baec-7df91d11ff2e",
   "metadata": {},
   "outputs": [],
   "source": [
    "#print(user_prompt_for(tom))"
   ]
  },
  {
   "cell_type": "code",
   "execution_count": 64,
   "id": "0134dfa4-8299-48b5-b444-f2a8c3403c88",
   "metadata": {},
   "outputs": [],
   "source": [
    "# See how this function creates exactly the format above\n",
    "\n",
    "def messages_for(website):\n",
    "    return [\n",
    "        {\"role\": \"system\", \"content\": system_prompt},\n",
    "        {\"role\": \"user\", \"content\": user_prompt_for(website)}\n",
    "    ]"
   ]
  },
  {
   "cell_type": "code",
   "execution_count": 25,
   "id": "36478464-39ee-485c-9f3f-6a4e458dbc9c",
   "metadata": {},
   "outputs": [],
   "source": [
    "# Try this out, and then try for a few more websites\n",
    "\n",
    "#messages_for(tom)"
   ]
  },
  {
   "cell_type": "code",
   "execution_count": 65,
   "id": "905b9919-aba7-45b5-ae65-81b3d1d78e34",
   "metadata": {},
   "outputs": [],
   "source": [
    "# And now: call the OpenAI API. You will get very familiar with this!\n",
    "\n",
    "def summarize(url):\n",
    "    website = Website(url)\n",
    "    response = openai.chat.completions.create(\n",
    "        model = \"gpt-4o-mini\",\n",
    "        messages = messages_for(website)\n",
    "    )\n",
    "    return response.choices[0].message.content"
   ]
  },
  {
   "cell_type": "code",
   "execution_count": 27,
   "id": "05e38d41-dfa4-4b20-9c96-c46ea75d9fb5",
   "metadata": {},
   "outputs": [],
   "source": [
    "#summarize(\"https://docusign.com\")"
   ]
  },
  {
   "cell_type": "code",
   "execution_count": 66,
   "id": "3d926d59-450e-4609-92ba-2d6f244f1342",
   "metadata": {},
   "outputs": [],
   "source": [
    "# A function to display this nicely in the Jupyter output, using markdown\n",
    "\n",
    "def display_summary(url):\n",
    "    summary = summarize(url)\n",
    "    display(Markdown(summary))\n",
    "    # Write the summary to a text file\n",
    "    website = Website(url)\n",
    "    output_file = f\"{website.title}.md\"\n",
    "    try:\n",
    "        with open(output_file, 'w', encoding='utf-8') as file:\n",
    "            file.write(summary)\n",
    "        print(f\"Summary successfully written to {output_file}\")\n",
    "    except IOError as e: \n",
    "        print(f\"An error occurred while writing to the file: {e}\")"
   ]
  },
  {
   "cell_type": "code",
   "execution_count": 67,
   "id": "3018853a-445f-41ff-9560-d925d1774b2f",
   "metadata": {},
   "outputs": [
    {
     "data": {
      "text/markdown": [
       "# Securus Technologies - Friends and Family Video Visitation System\n",
       "\n",
       "Securus Technologies provides communication solutions tailored for families of incarcerated individuals, primarily focusing on video visitation, messaging, and phone services. The platform enables users to connect with their loved ones through video calls, messaging services, and phone calls, all from the comfort of their own homes or anywhere with internet access.\n",
       "\n",
       "## Products and Services\n",
       "\n",
       "### Video Connect\n",
       "- **Core Capability**: A fully web-based visual communication system allowing video sessions with incarcerated individuals.\n",
       "- **Features**:\n",
       "  - Schedule video meetings from any location with internet access.\n",
       "  - Free Securus app available for easy access on mobile devices.\n",
       "  - Supports calls from family, friends, attorneys, and public officials.\n",
       "\n",
       "### eMessaging™\n",
       "- **Core Capability**: A messaging platform for sharing life updates and encouragement.\n",
       "- **Features**:\n",
       "  - Send messages, photos, and video clips.\n",
       "  - Send eCards for special occasions like birthdays and holidays.\n",
       "\n",
       "### Phone Products\n",
       "- **Core Capability**: Options to receive calls from incarcerated individuals.\n",
       "- **Features**:\n",
       "  - Open prepaid accounts (AdvanceConnect® accounts) for instant call receiving.\n",
       "  - Various call plans available for family members.\n",
       "\n",
       "## Competitive Product Matrix\n",
       "\n",
       "| Product Name            | Video Calls | Messaging | Phone Services | Ease of Use | Additional Notes                 |\n",
       "|------------------------|-------------|-----------|----------------|-------------|----------------------------------|\n",
       "| **Securus Technologies** | Yes         | Yes       | Yes            | High        | Web-based and app available.     |\n",
       "| **GTL**                | Yes         | Yes       | Yes            | Medium      | Similar pricing but varies by facility.|\n",
       "| **Telmate**            | Yes         | No        | Yes            | Medium      | Focus on video visitation primarily.|\n",
       "| **InmateCalling.com**  | No          | No        | Yes            | Low         | Primarily phone services, no video. |\n",
       "\n",
       "## Best Product Summary\n",
       "\n",
       "**Securus Technologies** stands out as the best product within the realm of communication solutions for families of incarcerated individuals. It offers a well-integrated experience with video visitation, messaging, and phone services, making it convenient for users to maintain contact with their loved ones. Its user-centric design and features like scheduling and accessibility through a mobile app set it apart from competitors.\n",
       "\n",
       "## URLs for Products\n",
       "- **Securus Technologies**: [Securus Technologies](https://www.securustech.net)\n",
       "- **GTL**: [GTL](https://www.gtl.net)\n",
       "- **Telmate**: [Telmate](https://www.telmate.com)\n",
       "- **InmateCalling.com**: [InmateCalling.com](https://www.inmatecalling.com)\n",
       "\n",
       "## News and Announcements Summary\n",
       "\n",
       "- **FCC Order Impact**: Information is available regarding the 2024 FCC order affecting incarcerated communications, indicating a focus on regulatory compliance and consumer education.\n",
       "- **Securus Originals**: New content such as \"Day One with Andre Norman\" and \"Sec2nd Acts\" highlights Securus’s commitment to supporting returning citizens and their families through media and outreach.\n",
       "\n",
       "---\n",
       "\n",
       "This comprehensive overview of Securus Technologies highlights its position in the marketplace and the specific features that make it a standout option for individuals seeking to maintain relationships with incarcerated loved ones."
      ],
      "text/plain": [
       "<IPython.core.display.Markdown object>"
      ]
     },
     "metadata": {},
     "output_type": "display_data"
    },
    {
     "name": "stdout",
     "output_type": "stream",
     "text": [
      "Summary successfully written to Securus Technologies - Friends and Family Video Visitation System.md\n"
     ]
    }
   ],
   "source": [
    "display_summary(\"https://securustech.net\")"
   ]
  },
  {
   "cell_type": "code",
   "execution_count": 30,
   "id": "75e9fd40-b354-4341-991e-863ef2e59db7",
   "metadata": {},
   "outputs": [],
   "source": [
    "#display_summary(\"https://anthropic.com\")"
   ]
  },
  {
   "cell_type": "markdown",
   "id": "36ed9f14-b349-40e9-a42c-b367e77f8bda",
   "metadata": {},
   "source": [
    "## An extra exercise for those who enjoy web scraping\n",
    "\n",
    "You may notice that if you try `display_summary(\"https://openai.com\")` - it doesn't work! That's because OpenAI has a fancy website that uses Javascript. There are many ways around this that some of you might be familiar with. For example, Selenium is a hugely popular framework that runs a browser behind the scenes, renders the page, and allows you to query it. If you have experience with Selenium, Playwright or similar, then feel free to improve the Website class to use them. In the community-contributions folder, you'll find an example Selenium solution from a student (thank you!)"
   ]
  },
  {
   "cell_type": "markdown",
   "id": "eeab24dc-5f90-4570-b542-b0585aca3eb6",
   "metadata": {},
   "source": [
    "# Sharing your code\n",
    "\n",
    "I'd love it if you share your code afterwards so I can share it with others! You'll notice that some students have already made changes (including a Selenium implementation) which you will find in the community-contributions folder. If you'd like add your changes to that folder, submit a Pull Request with your new versions in that folder and I'll merge your changes.\n",
    "\n",
    "If you're not an expert with git (and I am not!) then GPT has given some nice instructions on how to submit a Pull Request. It's a bit of an involved process, but once you've done it once it's pretty clear. As a pro-tip: it's best if you clear the outputs of your Jupyter notebooks (Edit >> Clean outputs of all cells, and then Save) for clean notebooks.\n",
    "\n",
    "PR instructions courtesy of an AI friend: https://chatgpt.com/share/670145d5-e8a8-8012-8f93-39ee4e248b4c"
   ]
  },
  {
   "cell_type": "code",
   "execution_count": null,
   "id": "682eff74-55c4-4d4b-b267-703edbc293c7",
   "metadata": {},
   "outputs": [],
   "source": []
  }
 ],
 "metadata": {
  "kernelspec": {
   "display_name": "llms",
   "language": "python",
   "name": "python3"
  },
  "language_info": {
   "codemirror_mode": {
    "name": "ipython",
    "version": 3
   },
   "file_extension": ".py",
   "mimetype": "text/x-python",
   "name": "python",
   "nbconvert_exporter": "python",
   "pygments_lexer": "ipython3",
   "version": "3.11.10"
  }
 },
 "nbformat": 4,
 "nbformat_minor": 5
}
